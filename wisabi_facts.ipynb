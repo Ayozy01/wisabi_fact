{
 "cells": [
  {
   "cell_type": "code",
   "execution_count": 1,
   "id": "cacbdc87",
   "metadata": {},
   "outputs": [],
   "source": [
    "import pandas as pd"
   ]
  },
  {
   "cell_type": "code",
   "execution_count": 2,
   "id": "0f0e080b",
   "metadata": {},
   "outputs": [],
   "source": [
    "abj = pd.read_csv(\"Fct_transactions.csv\")"
   ]
  },
  {
   "cell_type": "code",
   "execution_count": 3,
   "id": "2428ec59",
   "metadata": {
    "collapsed": true
   },
   "outputs": [
    {
     "data": {
      "text/html": [
       "<div>\n",
       "<style scoped>\n",
       "    .dataframe tbody tr th:only-of-type {\n",
       "        vertical-align: middle;\n",
       "    }\n",
       "\n",
       "    .dataframe tbody tr th {\n",
       "        vertical-align: top;\n",
       "    }\n",
       "\n",
       "    .dataframe thead th {\n",
       "        text-align: right;\n",
       "    }\n",
       "</style>\n",
       "<table border=\"1\" class=\"dataframe\">\n",
       "  <thead>\n",
       "    <tr style=\"text-align: right;\">\n",
       "      <th></th>\n",
       "      <th>TransactionID</th>\n",
       "      <th>TransactionStartDateTime</th>\n",
       "      <th>TransactionEndDateTime</th>\n",
       "      <th>CardholderID</th>\n",
       "      <th>LocationID</th>\n",
       "      <th>TransactionTypeID</th>\n",
       "      <th>TransactionAmount</th>\n",
       "    </tr>\n",
       "  </thead>\n",
       "  <tbody>\n",
       "    <tr>\n",
       "      <th>0</th>\n",
       "      <td>FC-2022-1000000001</td>\n",
       "      <td>01/01/2022 05:00</td>\n",
       "      <td>01/01/2022 05:01</td>\n",
       "      <td>FC-001-1015</td>\n",
       "      <td>FC-001</td>\n",
       "      <td>3</td>\n",
       "      <td>0</td>\n",
       "    </tr>\n",
       "    <tr>\n",
       "      <th>1</th>\n",
       "      <td>FC-2022-1000000002</td>\n",
       "      <td>01/01/2022 05:14</td>\n",
       "      <td>01/01/2022 05:16</td>\n",
       "      <td>FC-001-1001</td>\n",
       "      <td>FC-001</td>\n",
       "      <td>3</td>\n",
       "      <td>0</td>\n",
       "    </tr>\n",
       "    <tr>\n",
       "      <th>2</th>\n",
       "      <td>FC-2022-1000000003</td>\n",
       "      <td>01/01/2022 05:14</td>\n",
       "      <td>01/01/2022 05:17</td>\n",
       "      <td>FC-002-1045</td>\n",
       "      <td>FC-002</td>\n",
       "      <td>2</td>\n",
       "      <td>10000</td>\n",
       "    </tr>\n",
       "    <tr>\n",
       "      <th>3</th>\n",
       "      <td>FC-2022-1000000004</td>\n",
       "      <td>01/01/2022 06:26</td>\n",
       "      <td>01/01/2022 06:31</td>\n",
       "      <td>FC-004-1013</td>\n",
       "      <td>FC-004</td>\n",
       "      <td>1</td>\n",
       "      <td>50000</td>\n",
       "    </tr>\n",
       "    <tr>\n",
       "      <th>4</th>\n",
       "      <td>FC-2022-1000000005</td>\n",
       "      <td>01/01/2022 06:27</td>\n",
       "      <td>01/01/2022 06:30</td>\n",
       "      <td>FC-003-1023</td>\n",
       "      <td>FC-003</td>\n",
       "      <td>2</td>\n",
       "      <td>10000</td>\n",
       "    </tr>\n",
       "    <tr>\n",
       "      <th>...</th>\n",
       "      <td>...</td>\n",
       "      <td>...</td>\n",
       "      <td>...</td>\n",
       "      <td>...</td>\n",
       "      <td>...</td>\n",
       "      <td>...</td>\n",
       "      <td>...</td>\n",
       "    </tr>\n",
       "    <tr>\n",
       "      <th>159647</th>\n",
       "      <td>FC-2022-1000159648</td>\n",
       "      <td>31/12/2022 18:55</td>\n",
       "      <td>31/12/2022 18:59</td>\n",
       "      <td>FC-004-1003</td>\n",
       "      <td>FC-004</td>\n",
       "      <td>2</td>\n",
       "      <td>20000</td>\n",
       "    </tr>\n",
       "    <tr>\n",
       "      <th>159648</th>\n",
       "      <td>FC-2022-1000159649</td>\n",
       "      <td>31/12/2022 18:55</td>\n",
       "      <td>31/12/2022 18:59</td>\n",
       "      <td>FC-004-1003</td>\n",
       "      <td>FC-004</td>\n",
       "      <td>1</td>\n",
       "      <td>50000</td>\n",
       "    </tr>\n",
       "    <tr>\n",
       "      <th>159649</th>\n",
       "      <td>FC-2022-1000159650</td>\n",
       "      <td>31/12/2022 18:58</td>\n",
       "      <td>31/12/2022 19:01</td>\n",
       "      <td>FC-001-1004</td>\n",
       "      <td>FC-001</td>\n",
       "      <td>1</td>\n",
       "      <td>6000</td>\n",
       "    </tr>\n",
       "    <tr>\n",
       "      <th>159650</th>\n",
       "      <td>FC-2022-1000159651</td>\n",
       "      <td>31/12/2022 18:58</td>\n",
       "      <td>31/12/2022 19:02</td>\n",
       "      <td>FC-005-1039</td>\n",
       "      <td>FC-005</td>\n",
       "      <td>1</td>\n",
       "      <td>10000</td>\n",
       "    </tr>\n",
       "    <tr>\n",
       "      <th>159651</th>\n",
       "      <td>FC-2022-1000159652</td>\n",
       "      <td>31/12/2022 18:59</td>\n",
       "      <td>31/12/2022 19:03</td>\n",
       "      <td>FC-002-1040</td>\n",
       "      <td>FC-002</td>\n",
       "      <td>4</td>\n",
       "      <td>10000</td>\n",
       "    </tr>\n",
       "  </tbody>\n",
       "</table>\n",
       "<p>159652 rows × 7 columns</p>\n",
       "</div>"
      ],
      "text/plain": [
       "             TransactionID TransactionStartDateTime TransactionEndDateTime  \\\n",
       "0       FC-2022-1000000001         01/01/2022 05:00       01/01/2022 05:01   \n",
       "1       FC-2022-1000000002         01/01/2022 05:14       01/01/2022 05:16   \n",
       "2       FC-2022-1000000003         01/01/2022 05:14       01/01/2022 05:17   \n",
       "3       FC-2022-1000000004         01/01/2022 06:26       01/01/2022 06:31   \n",
       "4       FC-2022-1000000005         01/01/2022 06:27       01/01/2022 06:30   \n",
       "...                    ...                      ...                    ...   \n",
       "159647  FC-2022-1000159648         31/12/2022 18:55       31/12/2022 18:59   \n",
       "159648  FC-2022-1000159649         31/12/2022 18:55       31/12/2022 18:59   \n",
       "159649  FC-2022-1000159650         31/12/2022 18:58       31/12/2022 19:01   \n",
       "159650  FC-2022-1000159651         31/12/2022 18:58       31/12/2022 19:02   \n",
       "159651  FC-2022-1000159652         31/12/2022 18:59       31/12/2022 19:03   \n",
       "\n",
       "       CardholderID LocationID  TransactionTypeID  TransactionAmount  \n",
       "0       FC-001-1015     FC-001                  3                  0  \n",
       "1       FC-001-1001     FC-001                  3                  0  \n",
       "2       FC-002-1045     FC-002                  2              10000  \n",
       "3       FC-004-1013     FC-004                  1              50000  \n",
       "4       FC-003-1023     FC-003                  2              10000  \n",
       "...             ...        ...                ...                ...  \n",
       "159647  FC-004-1003     FC-004                  2              20000  \n",
       "159648  FC-004-1003     FC-004                  1              50000  \n",
       "159649  FC-001-1004     FC-001                  1               6000  \n",
       "159650  FC-005-1039     FC-005                  1              10000  \n",
       "159651  FC-002-1040     FC-002                  4              10000  \n",
       "\n",
       "[159652 rows x 7 columns]"
      ]
     },
     "execution_count": 3,
     "metadata": {},
     "output_type": "execute_result"
    }
   ],
   "source": [
    "abj"
   ]
  },
  {
   "cell_type": "code",
   "execution_count": 9,
   "id": "32e2b958",
   "metadata": {
    "collapsed": true
   },
   "outputs": [
    {
     "name": "stdout",
     "output_type": "stream",
     "text": [
      "<class 'pandas.core.frame.DataFrame'>\n",
      "RangeIndex: 159652 entries, 0 to 159651\n",
      "Data columns (total 7 columns):\n",
      " #   Column                    Non-Null Count   Dtype         \n",
      "---  ------                    --------------   -----         \n",
      " 0   TransactionID             159652 non-null  object        \n",
      " 1   TransactionStartDateTime  159652 non-null  datetime64[ns]\n",
      " 2   TransactionEndDateTime    159652 non-null  datetime64[ns]\n",
      " 3   CardholderID              159652 non-null  object        \n",
      " 4   LocationID                159652 non-null  object        \n",
      " 5   TransactionTypeID         159652 non-null  int64         \n",
      " 6   TransactionAmount         159652 non-null  int64         \n",
      "dtypes: datetime64[ns](2), int64(2), object(3)\n",
      "memory usage: 8.5+ MB\n"
     ]
    }
   ],
   "source": [
    "abj.info()"
   ]
  },
  {
   "cell_type": "code",
   "execution_count": 6,
   "id": "486d5c02",
   "metadata": {},
   "outputs": [
    {
     "data": {
      "text/plain": [
       "(159652, 7)"
      ]
     },
     "execution_count": 6,
     "metadata": {},
     "output_type": "execute_result"
    }
   ],
   "source": [
    "abj.shape"
   ]
  },
  {
   "cell_type": "code",
   "execution_count": 7,
   "id": "a54eb2eb",
   "metadata": {},
   "outputs": [],
   "source": [
    "abj['TransactionStartDateTime'] = pd.to_datetime(abj['TransactionStartDateTime'])\n"
   ]
  },
  {
   "cell_type": "code",
   "execution_count": 8,
   "id": "f97661b9",
   "metadata": {},
   "outputs": [],
   "source": [
    "abj['TransactionEndDateTime'] = pd.to_datetime(abj['TransactionEndDateTime'])"
   ]
  },
  {
   "cell_type": "code",
   "execution_count": 14,
   "id": "b9f8f3f9",
   "metadata": {},
   "outputs": [],
   "source": [
    "abj.to_csv(\"fct_transaction.csv\")"
   ]
  },
  {
   "cell_type": "code",
   "execution_count": 10,
   "id": "90151dc1",
   "metadata": {},
   "outputs": [],
   "source": [
    "fct_transaction = abj.dropna()"
   ]
  },
  {
   "cell_type": "code",
   "execution_count": 13,
   "id": "a3220b8c",
   "metadata": {
    "collapsed": true
   },
   "outputs": [
    {
     "name": "stdout",
     "output_type": "stream",
     "text": [
      "<class 'pandas.core.frame.DataFrame'>\n",
      "RangeIndex: 159652 entries, 0 to 159651\n",
      "Data columns (total 7 columns):\n",
      " #   Column                    Non-Null Count   Dtype         \n",
      "---  ------                    --------------   -----         \n",
      " 0   TransactionID             159652 non-null  object        \n",
      " 1   TransactionStartDateTime  159652 non-null  datetime64[ns]\n",
      " 2   TransactionEndDateTime    159652 non-null  datetime64[ns]\n",
      " 3   CardholderID              159652 non-null  object        \n",
      " 4   LocationID                159652 non-null  object        \n",
      " 5   TransactionTypeID         159652 non-null  int64         \n",
      " 6   TransactionAmount         159652 non-null  int64         \n",
      "dtypes: datetime64[ns](2), int64(2), object(3)\n",
      "memory usage: 8.5+ MB\n"
     ]
    }
   ],
   "source": [
    "fct_transaction.info()"
   ]
  },
  {
   "cell_type": "code",
   "execution_count": 15,
   "id": "8cb77c88",
   "metadata": {},
   "outputs": [],
   "source": [
    "eng = pd.read_csv(\"Enugu_transactions.csv\")"
   ]
  },
  {
   "cell_type": "code",
   "execution_count": 19,
   "id": "1c407a0d",
   "metadata": {
    "collapsed": true
   },
   "outputs": [
    {
     "name": "stdout",
     "output_type": "stream",
     "text": [
      "<class 'pandas.core.frame.DataFrame'>\n",
      "RangeIndex: 350251 entries, 0 to 350250\n",
      "Data columns (total 7 columns):\n",
      " #   Column                    Non-Null Count   Dtype         \n",
      "---  ------                    --------------   -----         \n",
      " 0   TransactionID             350251 non-null  object        \n",
      " 1   TransactionStartDateTime  350251 non-null  datetime64[ns]\n",
      " 2   TransactionEndDateTime    350251 non-null  datetime64[ns]\n",
      " 3   CardholderID              350251 non-null  object        \n",
      " 4   LocationID                350251 non-null  object        \n",
      " 5   TransactionTypeID         350251 non-null  int64         \n",
      " 6   TransactionAmount         350251 non-null  int64         \n",
      "dtypes: datetime64[ns](2), int64(2), object(3)\n",
      "memory usage: 18.7+ MB\n"
     ]
    }
   ],
   "source": [
    "eng.info()"
   ]
  },
  {
   "cell_type": "code",
   "execution_count": 17,
   "id": "a265c39d",
   "metadata": {},
   "outputs": [],
   "source": [
    "eng['TransactionStartDateTime'] = pd.to_datetime(eng['TransactionStartDateTime'])"
   ]
  },
  {
   "cell_type": "code",
   "execution_count": 18,
   "id": "19b6dcd1",
   "metadata": {},
   "outputs": [],
   "source": [
    "eng['TransactionEndDateTime'] = pd.to_datetime(eng['TransactionEndDateTime'])"
   ]
  },
  {
   "cell_type": "code",
   "execution_count": 20,
   "id": "c5f680b3",
   "metadata": {},
   "outputs": [],
   "source": [
    "enugu_transaction = eng.dropna()"
   ]
  },
  {
   "cell_type": "code",
   "execution_count": 21,
   "id": "3bd6da77",
   "metadata": {},
   "outputs": [],
   "source": [
    "enugu_transaction = eng.dropna()"
   ]
  },
  {
   "cell_type": "code",
   "execution_count": 22,
   "id": "41cb47d9",
   "metadata": {},
   "outputs": [],
   "source": [
    "riv = pd.read_csv(\"Rivers_transactions.csv\")"
   ]
  },
  {
   "cell_type": "code",
   "execution_count": 26,
   "id": "de375f87",
   "metadata": {
    "collapsed": true
   },
   "outputs": [
    {
     "name": "stdout",
     "output_type": "stream",
     "text": [
      "<class 'pandas.core.frame.DataFrame'>\n",
      "RangeIndex: 420098 entries, 0 to 420097\n",
      "Data columns (total 7 columns):\n",
      " #   Column                    Non-Null Count   Dtype         \n",
      "---  ------                    --------------   -----         \n",
      " 0   TransactionID             420098 non-null  object        \n",
      " 1   TransactionStartDateTime  420098 non-null  datetime64[ns]\n",
      " 2   TransactionEndDateTime    420098 non-null  datetime64[ns]\n",
      " 3   CardholderID              420098 non-null  object        \n",
      " 4   LocationID                420098 non-null  object        \n",
      " 5   TransactionTypeID         420098 non-null  int64         \n",
      " 6   TransactionAmount         420098 non-null  int64         \n",
      "dtypes: datetime64[ns](2), int64(2), object(3)\n",
      "memory usage: 22.4+ MB\n"
     ]
    }
   ],
   "source": [
    "riv.info()"
   ]
  },
  {
   "cell_type": "code",
   "execution_count": 24,
   "id": "c4e33fb3",
   "metadata": {},
   "outputs": [],
   "source": [
    "riv['TransactionStartDateTime'] = pd.to_datetime(riv['TransactionStartDateTime'])"
   ]
  },
  {
   "cell_type": "code",
   "execution_count": 25,
   "id": "59fb7da8",
   "metadata": {},
   "outputs": [],
   "source": [
    "riv['TransactionEndDateTime'] = pd.to_datetime(riv['TransactionEndDateTime'])"
   ]
  },
  {
   "cell_type": "code",
   "execution_count": 28,
   "id": "cd96495a",
   "metadata": {},
   "outputs": [],
   "source": [
    "rivers_transaction = riv.dropna()"
   ]
  },
  {
   "cell_type": "code",
   "execution_count": 29,
   "id": "f6aec3cf",
   "metadata": {},
   "outputs": [],
   "source": [
    "riv.to_csv(\"rivers_transaction.csv\")"
   ]
  },
  {
   "cell_type": "code",
   "execution_count": 30,
   "id": "e8c8f09a",
   "metadata": {},
   "outputs": [],
   "source": [
    "kn = pd.read_csv(\"Kano_transactions.csv\")"
   ]
  },
  {
   "cell_type": "code",
   "execution_count": 31,
   "id": "1e91a568",
   "metadata": {
    "collapsed": true
   },
   "outputs": [
    {
     "name": "stdout",
     "output_type": "stream",
     "text": [
      "<class 'pandas.core.frame.DataFrame'>\n",
      "RangeIndex: 458764 entries, 0 to 458763\n",
      "Data columns (total 7 columns):\n",
      " #   Column                    Non-Null Count   Dtype \n",
      "---  ------                    --------------   ----- \n",
      " 0   TransactionID             458764 non-null  object\n",
      " 1   TransactionStartDateTime  458764 non-null  object\n",
      " 2   TransactionEndDateTime    458764 non-null  object\n",
      " 3   CardholderID              458764 non-null  object\n",
      " 4   LocationID                458764 non-null  object\n",
      " 5   TransactionTypeID         458764 non-null  int64 \n",
      " 6   TransactionAmount         458764 non-null  int64 \n",
      "dtypes: int64(2), object(5)\n",
      "memory usage: 24.5+ MB\n"
     ]
    }
   ],
   "source": [
    "kn.info()"
   ]
  },
  {
   "cell_type": "code",
   "execution_count": 32,
   "id": "5a64cb1b",
   "metadata": {},
   "outputs": [],
   "source": [
    "kn['TransactionStartDateTime'] = pd.to_datetime(kn['TransactionStartDateTime'])"
   ]
  },
  {
   "cell_type": "code",
   "execution_count": 33,
   "id": "47747df2",
   "metadata": {},
   "outputs": [],
   "source": [
    "kn['TransactionEndDateTime'] = pd.to_datetime(kn['TransactionEndDateTime'])"
   ]
  },
  {
   "cell_type": "code",
   "execution_count": 34,
   "id": "5770440e",
   "metadata": {},
   "outputs": [],
   "source": [
    "kano_transaction = kn.dropna()"
   ]
  },
  {
   "cell_type": "code",
   "execution_count": 35,
   "id": "05451362",
   "metadata": {},
   "outputs": [],
   "source": [
    "kn.to_csv(\"kano_transaction.csv\")"
   ]
  },
  {
   "cell_type": "code",
   "execution_count": 36,
   "id": "a005dab9",
   "metadata": {},
   "outputs": [],
   "source": [
    "lag = pd.read_csv(\"Lagos_transactions.csv\")"
   ]
  },
  {
   "cell_type": "code",
   "execution_count": 37,
   "id": "58a8c6f0",
   "metadata": {
    "collapsed": true
   },
   "outputs": [
    {
     "name": "stdout",
     "output_type": "stream",
     "text": [
      "<class 'pandas.core.frame.DataFrame'>\n",
      "RangeIndex: 755073 entries, 0 to 755072\n",
      "Data columns (total 7 columns):\n",
      " #   Column                    Non-Null Count   Dtype \n",
      "---  ------                    --------------   ----- \n",
      " 0   TransactionID             755073 non-null  object\n",
      " 1   TransactionStartDateTime  755073 non-null  object\n",
      " 2   TransactionEndDateTime    755073 non-null  object\n",
      " 3   CardholderID              755073 non-null  object\n",
      " 4   LocationID                755073 non-null  object\n",
      " 5   TransactionTypeID         755073 non-null  int64 \n",
      " 6   TransactionAmount         755073 non-null  int64 \n",
      "dtypes: int64(2), object(5)\n",
      "memory usage: 40.3+ MB\n"
     ]
    }
   ],
   "source": [
    "lag.info()"
   ]
  },
  {
   "cell_type": "code",
   "execution_count": 38,
   "id": "d2f773b7",
   "metadata": {},
   "outputs": [],
   "source": [
    "lag['TransactionStartDateTime'] = pd.to_datetime(lag['TransactionStartDateTime'])"
   ]
  },
  {
   "cell_type": "code",
   "execution_count": 39,
   "id": "8e7785a8",
   "metadata": {},
   "outputs": [],
   "source": [
    "lag['TransactionEndDateTime'] = pd.to_datetime(lag['TransactionEndDateTime'])"
   ]
  },
  {
   "cell_type": "code",
   "execution_count": 40,
   "id": "0f688072",
   "metadata": {},
   "outputs": [],
   "source": [
    "lagos_transaction = lag.dropna()"
   ]
  },
  {
   "cell_type": "code",
   "execution_count": 41,
   "id": "2d0341df",
   "metadata": {},
   "outputs": [],
   "source": [
    "lag.to_csv(\"lagos_transaction.csv\")"
   ]
  },
  {
   "cell_type": "code",
   "execution_count": null,
   "id": "86df5983",
   "metadata": {},
   "outputs": [],
   "source": []
  }
 ],
 "metadata": {
  "kernelspec": {
   "display_name": "Python 3 (ipykernel)",
   "language": "python",
   "name": "python3"
  },
  "language_info": {
   "codemirror_mode": {
    "name": "ipython",
    "version": 3
   },
   "file_extension": ".py",
   "mimetype": "text/x-python",
   "name": "python",
   "nbconvert_exporter": "python",
   "pygments_lexer": "ipython3",
   "version": "3.11.3"
  }
 },
 "nbformat": 4,
 "nbformat_minor": 5
}
